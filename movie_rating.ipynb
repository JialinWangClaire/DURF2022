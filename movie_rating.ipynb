{
  "nbformat": 4,
  "nbformat_minor": 0,
  "metadata": {
    "colab": {
      "name": "movie_rating.ipynb",
      "provenance": [],
      "collapsed_sections": []
    },
    "kernelspec": {
      "name": "python3",
      "display_name": "Python 3"
    },
    "language_info": {
      "name": "python"
    },
    "gpuClass": "standard"
  },
  "cells": [
    {
      "cell_type": "code",
      "source": [
        "import pandas as pd\n",
        "import numpy as np\n",
        "from matplotlib import pyplot as plt"
      ],
      "metadata": {
        "id": "Hop-UtZiqBqO"
      },
      "execution_count": null,
      "outputs": []
    },
    {
      "cell_type": "markdown",
      "source": [
        "# **Data Preproccessing**"
      ],
      "metadata": {
        "id": "TqxXhHaapsP4"
      }
    },
    {
      "cell_type": "code",
      "execution_count": null,
      "metadata": {
        "id": "yZN69aLVpnug"
      },
      "outputs": [],
      "source": [
        "#from google.colab import files\n",
        "#data1 = files.upload()\n",
        "#data2 = files.upload()\n",
        "#data3 = files.upload()\n",
        "#data4 = files.upload()"
      ]
    },
    {
      "cell_type": "code",
      "source": [
        "df1=pd.read_csv('combined_data_1.txt',header = None, names = ['Cust_Id', 'Rating'], usecols = [0,1],nrows=50000)\n",
        "#df2=pd.read_csv('combined_data_2.txt',header = None, names = ['Cust_Id', 'Rating'], usecols = [0,1])\n",
        "#df3=pd.read_csv('combined_data_3.txt',header = None, names = ['Cust_Id', 'Rating'], usecols = [0,1])\n",
        "#df4=pd.read_csv('combined_data_4.txt',header = None, names = ['Cust_Id', 'Rating'], usecols = [0,1])\n",
        "df1['Rating'] = df1['Rating'].astype(float)\n",
        "#df2['Rating'] = df2['Rating'].astype(float)\n",
        "#df3['Rating'] = df3['Rating'].astype(float)\n",
        "#df4['Rating'] = df4['Rating'].astype(float)\n",
        "\n",
        "df = df1\n",
        "#df = df1.append(df2)\n",
        "#df = df.append(df3)\n",
        "#df = df.append(df4)\n",
        "\n",
        "df.index = np.arange(0,len(df))\n",
        "print('Full dataset shape: {}'.format(df.shape))"
      ],
      "metadata": {
        "colab": {
          "base_uri": "https://localhost:8080/"
        },
        "id": "OfUlx6Vl4zwb",
        "outputId": "6d9cbcce-96ac-4b55-9a3e-d240543c8086"
      },
      "execution_count": null,
      "outputs": [
        {
          "output_type": "stream",
          "name": "stdout",
          "text": [
            "Full dataset shape: (50000, 2)\n"
          ]
        }
      ]
    },
    {
      "cell_type": "code",
      "source": [
        "p=df.groupby('Rating')['Rating'].agg(['count'])\n",
        "movie_count = df.isnull().sum()[1]\n",
        "cust_count = df['Cust_Id'].nunique() - movie_count\n",
        "rating_count = df['Cust_Id'].count() - movie_count\n",
        "\n",
        "ax = p.plot(kind = 'barh', legend = False, figsize = (15,10))\n",
        "plt.title('Total pool: {:,} Movies, {:,} customers, {:,} ratings given'.format(movie_count, cust_count, rating_count), fontsize=20)\n",
        "plt.axis('off')\n",
        "\n",
        "for i in range(1,6):\n",
        "    ax.text(p.iloc[i-1][0]/4, i-1, 'Rating {}: {:.0f}%'.format(i, p.iloc[i-1][0]*100 / p.sum()[0]), color = 'white', weight = 'bold')"
      ],
      "metadata": {
        "colab": {
          "base_uri": "https://localhost:8080/",
          "height": 596
        },
        "id": "vH5kwaqn6XK_",
        "outputId": "e24a9e17-40b2-4c0a-91fc-58dcedfc3b3c"
      },
      "execution_count": null,
      "outputs": [
        {
          "output_type": "display_data",
          "data": {
            "text/plain": [
              "<Figure size 1080x720 with 1 Axes>"
            ],
            "image/png": "[encoded data removed]"
          },
          "metadata": {
            "needs_background": "light"
          }
        }
      ]
    },
    {
      "cell_type": "code",
      "source": [
        "df_nan = pd.DataFrame(pd.isnull(df.Rating))\n",
        "df_nan = df_nan[df_nan['Rating'] == True]\n",
        "df_nan = df_nan.reset_index()\n",
        "\n",
        "movie_np = []\n",
        "movie_id = 1\n",
        "\n",
        "for i,j in zip(df_nan['index'][1:],df_nan['index'][:-1]):\n",
        "    temp = np.full((1,i-j-1), movie_id)\n",
        "    movie_np = np.append(movie_np, temp)\n",
        "    movie_id += 1\n",
        "\n",
        "last_record = np.full((1,len(df) - df_nan.iloc[-1, 0] - 1),movie_id)\n",
        "movie_np = np.append(movie_np, last_record)\n",
        "\n",
        "print('Movie numpy: {}'.format(movie_np))\n",
        "print('Length: {}'.format(len(movie_np)))"
      ],
      "metadata": {
        "colab": {
          "base_uri": "https://localhost:8080/"
        },
        "id": "AwlN3mhXnY6e",
        "outputId": "a09245bf-c1f4-4d8a-b0ea-a2a41015a822"
      },
      "execution_count": null,
      "outputs": [
        {
          "output_type": "stream",
          "name": "stdout",
          "text": [
            "Movie numpy: [ 1.  1.  1. ... 26. 26. 26.]\n",
            "Length: 49974\n"
          ]
        }
      ]
    },
    {
      "cell_type": "code",
      "source": [
        "df = df[pd.notnull(df['Rating'])]\n",
        "df['Movie_Id'] = movie_np.astype(int)\n",
        "df['Cust_Id'] = df['Cust_Id'].astype(int)\n",
        "print('-Dataset examples-')\n",
        "print(df.iloc[::50000, :])"
      ],
      "metadata": {
        "colab": {
          "base_uri": "https://localhost:8080/"
        },
        "id": "Xe2iyqNGoD6r",
        "outputId": "99bfa947-3e89-48a4-eac7-d7e9706dfbba"
      },
      "execution_count": null,
      "outputs": [
        {
          "output_type": "stream",
          "name": "stdout",
          "text": [
            "-Dataset examples-\n",
            "   Cust_Id  Rating  Movie_Id\n",
            "1  1488844     3.0         1\n"
          ]
        },
        {
          "output_type": "stream",
          "name": "stderr",
          "text": [
            "/usr/local/lib/python3.7/dist-packages/ipykernel_launcher.py:2: SettingWithCopyWarning: \n",
            "A value is trying to be set on a copy of a slice from a DataFrame.\n",
            "Try using .loc[row_indexer,col_indexer] = value instead\n",
            "\n",
            "See the caveats in the documentation: https://pandas.pydata.org/pandas-docs/stable/user_guide/indexing.html#returning-a-view-versus-a-copy\n",
            "  \n",
            "/usr/local/lib/python3.7/dist-packages/ipykernel_launcher.py:3: SettingWithCopyWarning: \n",
            "A value is trying to be set on a copy of a slice from a DataFrame.\n",
            "Try using .loc[row_indexer,col_indexer] = value instead\n",
            "\n",
            "See the caveats in the documentation: https://pandas.pydata.org/pandas-docs/stable/user_guide/indexing.html#returning-a-view-versus-a-copy\n",
            "  This is separate from the ipykernel package so we can avoid doing imports until\n"
          ]
        }
      ]
    },
    {
      "cell_type": "code",
      "source": [
        "f = ['count','mean']\n",
        "\n",
        "df_movie_summary = df.groupby('Movie_Id')['Rating'].agg(f)\n",
        "df_movie_summary.index = df_movie_summary.index.map(int)\n",
        "movie_benchmark = round(df_movie_summary['count'].quantile(0.7),0)\n",
        "drop_movie_list = df_movie_summary[df_movie_summary['count'] < movie_benchmark].index\n",
        "\n",
        "print('Movie minimum times of review: {}'.format(movie_benchmark))\n",
        "\n",
        "df_cust_summary = df.groupby('Cust_Id')['Rating'].agg(f)\n",
        "df_cust_summary.index = df_cust_summary.index.map(int)\n",
        "cust_benchmark = round(df_cust_summary['count'].quantile(0.7),0)\n",
        "drop_cust_list = df_cust_summary[df_cust_summary['count'] < cust_benchmark].index\n",
        "\n",
        "print('Customer minimum times of review: {}'.format(cust_benchmark))"
      ],
      "metadata": {
        "colab": {
          "base_uri": "https://localhost:8080/"
        },
        "id": "_V-q9MlAqGOl",
        "outputId": "e1f4ece7-6258-4552-80d1-8910d2d3c97f"
      },
      "execution_count": null,
      "outputs": [
        {
          "output_type": "stream",
          "name": "stdout",
          "text": [
            "Movie minimum times of review: 1174.0\n",
            "Customer minimum times of review: 1.0\n"
          ]
        }
      ]
    },
    {
      "cell_type": "code",
      "source": [
        "print('Original Shape: {}'.format(df.shape))\n",
        "df = df[~df['Movie_Id'].isin(drop_movie_list)]\n",
        "df = df[~df['Cust_Id'].isin(drop_cust_list)]\n",
        "print('After Trim Shape: {}'.format(df.shape))"
      ],
      "metadata": {
        "colab": {
          "base_uri": "https://localhost:8080/"
        },
        "id": "sizpihvWqTCT",
        "outputId": "2d0f49f5-5b77-4560-885e-9af9522595ec"
      },
      "execution_count": null,
      "outputs": [
        {
          "output_type": "stream",
          "name": "stdout",
          "text": [
            "Original Shape: (49974, 3)\n",
            "After Trim Shape: (43576, 3)\n"
          ]
        }
      ]
    },
    {
      "cell_type": "code",
      "source": [
        "df_p = pd.pivot_table(df,values='Rating',index='Cust_Id',columns='Movie_Id')\n",
        "\n",
        "print(df_p.shape)\n",
        "print(df_p)"
      ],
      "metadata": {
        "colab": {
          "base_uri": "https://localhost:8080/"
        },
        "id": "u-GO3RCoqstB",
        "outputId": "4fd0da91-55bd-4e02-fad5-4802ce0551bb"
      },
      "execution_count": null,
      "outputs": [
        {
          "output_type": "stream",
          "name": "stdout",
          "text": [
            "(38786, 8)\n",
            "Movie_Id  3    8   16   17   18  24  25   26\n",
            "Cust_Id                                     \n",
            "7        NaN  5.0 NaN  NaN  NaN NaN NaN  NaN\n",
            "307      NaN  3.0 NaN  NaN  NaN NaN NaN  NaN\n",
            "424      NaN  NaN NaN  NaN  4.0 NaN NaN  NaN\n",
            "462      NaN  NaN NaN  2.0  NaN NaN NaN  NaN\n",
            "491      NaN  NaN NaN  3.0  NaN NaN NaN  NaN\n",
            "...       ..  ...  ..  ...  ...  ..  ..  ...\n",
            "2649067  NaN  NaN NaN  NaN  NaN NaN NaN  3.0\n",
            "2649093  NaN  NaN NaN  2.0  NaN NaN NaN  NaN\n",
            "2649308  NaN  NaN NaN  NaN  4.0 NaN NaN  NaN\n",
            "2649336  NaN  4.0 NaN  NaN  NaN NaN NaN  NaN\n",
            "2649426  NaN  NaN NaN  4.0  NaN NaN NaN  NaN\n",
            "\n",
            "[38786 rows x 8 columns]\n"
          ]
        }
      ]
    },
    {
      "cell_type": "code",
      "source": [
        "df_title = pd.read_csv('movie_titles.csv', encoding = \"ISO-8859-1\", header = None, names = ['Movie_Id', 'Year', 'Name'])\n",
        "df_title.set_index('Movie_Id', inplace = True)\n",
        "print(df_title.head(10))"
      ],
      "metadata": {
        "colab": {
          "base_uri": "https://localhost:8080/"
        },
        "id": "m5P5LLH5VkBd",
        "outputId": "6948ca94-8bb5-4382-bcf0-c6abc43b6009"
      },
      "execution_count": null,
      "outputs": [
        {
          "output_type": "stream",
          "name": "stdout",
          "text": [
            "            Year                          Name\n",
            "Movie_Id                                      \n",
            "1         2003.0               Dinosaur Planet\n",
            "2         2004.0    Isle of Man TT 2004 Review\n",
            "3         1997.0                     Character\n",
            "4         1994.0  Paula Abdul's Get Up & Dance\n",
            "5         2004.0      The Rise and Fall of ECW\n",
            "6         1997.0                          Sick\n",
            "7         1992.0                         8 Man\n",
            "8         2004.0    What the #$*! Do We Know!?\n",
            "9         1991.0      Class of Nuke 'Em High 2\n",
            "10        2001.0                       Fighter\n"
          ]
        }
      ]
    },
    {
      "cell_type": "markdown",
      "source": [
        "# **Singular Value Thresholding**"
      ],
      "metadata": {
        "id": "6Q_Zxo5OV0tc"
      }
    },
    {
      "cell_type": "code",
      "source": [
        "def svd_solver(A,mask,t=None,delta=None,epsilon=1e-2,max_iterations=1000):\n",
        "  Y=np.zeros_like(A)\n",
        "\n",
        "  #initialize the step\n",
        "  if not t:\n",
        "    t=5*np.sum(A.shape)/2\n",
        "  if not delta:\n",
        "    delta=1.2*np.prod(A.shape)/np.sum(mask)\n",
        "\n",
        "  for i in range(max_iterations):\n",
        "    #SVD decomposition\n",
        "    U,S,V=np.linalg.svd(Y,full_matrices=False)\n",
        "    #soft-thresholding operator\n",
        "    S=np.maximum(S-t,0)\n",
        "    #singular value shrinkage\n",
        "    X=np.linalg.multi_dot([U,np.diag(S),V])\n",
        "    #interation of Y\n",
        "    Y+=delta*mask*(A-X)\n",
        "    #error calculation\n",
        "    error=np.linalg.norm(mask*(X-A))/np.linalg.norm(mask*A)\n",
        "    if error<epsilon:\n",
        "      break\n",
        "  return X"
      ],
      "metadata": {
        "id": "Thn7WUUiV62g"
      },
      "execution_count": null,
      "outputs": []
    },
    {
      "cell_type": "code",
      "source": [
        "df_p = df_p.fillna(0)\n",
        "matrix=df_p.values\n",
        "matrix=matrix.astype(float)\n",
        "print(matrix)\n",
        "import xlwt\n",
        "import xlrd\n",
        "filename =xlwt.Workbook()\n",
        "sheet1 = filename.add_sheet(u'sheet1',cell_overwrite_ok=True)\n",
        "[h,l]=matrix.shape #h为行数，l为列数\n",
        "for i in range (h):\n",
        "    for j in range (l):\n",
        "      sheet1.write(i,j,matrix[i,j])\n",
        "filename.save('name_of_your_excel_file.xls')\n"
      ],
      "metadata": {
        "colab": {
          "base_uri": "https://localhost:8080/"
        },
        "id": "wr4kZjh-WY7u",
        "outputId": "fd31d274-5f16-4dbd-9545-722948c208e0"
      },
      "execution_count": null,
      "outputs": [
        {
          "output_type": "stream",
          "name": "stdout",
          "text": [
            "[[0. 5. 0. ... 0. 0. 0.]\n",
            " [0. 3. 0. ... 0. 0. 0.]\n",
            " [0. 0. 0. ... 0. 0. 0.]\n",
            " ...\n",
            " [0. 0. 0. ... 0. 0. 0.]\n",
            " [0. 4. 0. ... 0. 0. 0.]\n",
            " [0. 0. 0. ... 0. 0. 0.]]\n"
          ]
        }
      ]
    },
    {
      "cell_type": "code",
      "source": [
        "shape=matrix.shape\n",
        "mask=np.zeros(shape)\n",
        "for i in range(0,shape[0]):\n",
        "  for j in range(0,shape[1]):\n",
        "    if matrix[i,j]>0:\n",
        "      mask[i,j]=1"
      ],
      "metadata": {
        "id": "IksNYzCWYAM9"
      },
      "execution_count": null,
      "outputs": []
    },
    {
      "cell_type": "code",
      "source": [
        "result=svd_solver(matrix,mask)\n",
        "print(np.linalg.norm(result,'nuc'))\n",
        "#2s"
      ],
      "metadata": {
        "colab": {
          "base_uri": "https://localhost:8080/"
        },
        "id": "BYNUdopbYHhd",
        "outputId": "5a05b54e-c98f-4408-c827-bd77091d35a0"
      },
      "execution_count": null,
      "outputs": [
        {
          "output_type": "stream",
          "name": "stdout",
          "text": [
            "1786.2433405172205\n"
          ]
        }
      ]
    },
    {
      "cell_type": "code",
      "source": [
        "def new_rating(original,result,user):\n",
        "  ratings=[]\n",
        "  for i in range(original.shape[1]):\n",
        "    r=original[user,i]\n",
        "    if r==0:\n",
        "      ratings.append((i,result[user,i]))\n",
        "  return sorted(ratings,key=lambda x:x[1],reverse=True)"
      ],
      "metadata": {
        "id": "NtDW5aAqbLTJ"
      },
      "execution_count": null,
      "outputs": []
    },
    {
      "cell_type": "code",
      "source": [
        "print(new_rating(matrix,result,3))"
      ],
      "metadata": {
        "colab": {
          "base_uri": "https://localhost:8080/"
        },
        "id": "Q8-tpd8DbMuk",
        "outputId": "0205a0a2-9233-4ed7-b57f-dc7d71e216cb"
      },
      "execution_count": null,
      "outputs": [
        {
          "output_type": "stream",
          "name": "stdout",
          "text": [
            "[(1, 0.990558300219489), (4, 0.79489995310139), (0, 0.6349629309307758), (6, 0.5481067611672141), (2, 0.5134589576355583), (5, 0.3188596854479476), (7, 0.30880848946459394)]\n"
          ]
        }
      ]
    },
    {
      "cell_type": "markdown",
      "source": [
        "# **Augmented Lagrange Multiplier**\n"
      ],
      "metadata": {
        "id": "3EFm7aCQbaMh"
      }
    },
    {
      "cell_type": "code",
      "source": [
        "from numpy.linalg import norm, svd"
      ],
      "metadata": {
        "id": "39_6HVb7elvG"
      },
      "execution_count": null,
      "outputs": []
    },
    {
      "cell_type": "code",
      "source": [
        "def inexact_augmented_lagrange_multiplier(X, lmbda=.01, tol=1e-2,\n",
        "                                          maxiter=1000, verbose=True):\n",
        "    \"\"\"\n",
        "    Inexact Augmented Lagrange Multiplier\n",
        "    \"\"\"\n",
        "    Y = X\n",
        "    norm_two = norm(Y.ravel(), 2)\n",
        "    norm_inf = norm(Y.ravel(), np.inf) / lmbda\n",
        "    dual_norm = np.max([norm_two, norm_inf])\n",
        "    Y = Y / dual_norm\n",
        "    A = np.zeros(Y.shape)\n",
        "    E = np.zeros(Y.shape)\n",
        "    dnorm = norm(X, 'fro')\n",
        "    mu = 1.25 / norm_two\n",
        "    rho = 1.5\n",
        "    sv = 10.\n",
        "    n = Y.shape[0]\n",
        "    itr = 0\n",
        "    while True:\n",
        "        Eraw = X - A + (1 / mu) * Y\n",
        "        Eupdate = np.maximum(Eraw - lmbda / mu, 0) + np.minimum(Eraw + lmbda / mu, 0)\n",
        "        U, S, V = svd(X - Eupdate + (1 / mu) * Y, full_matrices=False)\n",
        "        svp = (S > 1 / mu).shape[0]\n",
        "        if svp < sv:\n",
        "            sv = np.min([svp + 1, n])\n",
        "        else:\n",
        "            sv = np.min([svp + round(.05 * n), n])\n",
        "        Aupdate = np.dot(np.dot(U[:, :svp], np.diag(S[:svp] - 1 / mu)), V[:svp, :])\n",
        "        A = Aupdate\n",
        "        E = Eupdate\n",
        "        Z = X - A - E\n",
        "        Y = Y + mu * Z\n",
        "        mu = np.min([mu * rho, mu * 1e7])\n",
        "        itr += 1\n",
        "        if ((norm(Z, 'fro') / dnorm) < tol) or (itr >= maxiter):\n",
        "            break\n",
        "    if verbose:\n",
        "        print(\"Finished at iteration %d\" % (itr))  \n",
        "    return A, E"
      ],
      "metadata": {
        "id": "qm5_vKA0ep_C"
      },
      "execution_count": null,
      "outputs": []
    },
    {
      "cell_type": "code",
      "source": [
        "A, E = inexact_augmented_lagrange_multiplier(matrix)\n",
        "print(np.linalg.norm(A,'nuc'))"
      ],
      "metadata": {
        "colab": {
          "base_uri": "https://localhost:8080/"
        },
        "id": "CaSmX6S4eulQ",
        "outputId": "f0f4ceea-0d51-4067-b382-26c3952aac87"
      },
      "execution_count": null,
      "outputs": [
        {
          "output_type": "stream",
          "name": "stdout",
          "text": [
            "Finished at iteration 13\n",
            "261.7966431526168\n"
          ]
        }
      ]
    },
    {
      "cell_type": "code",
      "source": [
        "print(new_rating(matrix,A,3))"
      ],
      "metadata": {
        "colab": {
          "base_uri": "https://localhost:8080/"
        },
        "id": "l5MhxLoJffsu",
        "outputId": "e4f252d9-7803-4467-86c0-76294e119d3d"
      },
      "execution_count": null,
      "outputs": [
        {
          "output_type": "stream",
          "name": "stdout",
          "text": [
            "[(6, 0.022150034340126593), (1, 3.2312078256550184e-05), (4, -1.464050864809486e-06), (7, -0.0003564667500847378), (2, -0.0008275832155703987), (0, -0.002792118429770598), (5, -0.005188582510965167)]\n"
          ]
        }
      ]
    },
    {
      "cell_type": "markdown",
      "source": [
        "# **Dual Method**\n",
        "Translated from Matlab"
      ],
      "metadata": {
        "id": "ui_T17DXbo5w"
      }
    },
    {
      "cell_type": "code",
      "source": [
        "def choosvd(n,d):\n",
        "  if n <= 100: \n",
        "    if d / n <= 0.02:\n",
        "        y = 1\n",
        "    else:\n",
        "        y = 0\n",
        "\n",
        "  elif n <= 200:\n",
        "    if d / n <= 0.10:\n",
        "        y = 1\n",
        "    else:\n",
        "        y = 0\n",
        "\n",
        "  elif n <= 300:\n",
        "    if d / n <= 0.13:\n",
        "        y = 1\n",
        "    else:\n",
        "        y = 0\n",
        "\n",
        "  elif n <= 400:\n",
        "    if d / n <= 0.14:\n",
        "        y = 1\n",
        "    else:\n",
        "        y = 0\n",
        "\n",
        "  elif n <= 500:\n",
        "    if d / n <= 0.17:\n",
        "        y = 1\n",
        "    else:\n",
        "        y = 0\n",
        "\n",
        "  else:\n",
        "    if d / n <= 0.19:\n",
        "        y = 1\n",
        "    else:\n",
        "        y = 0\n"
      ],
      "metadata": {
        "id": "x0st3wWy6xiR"
      },
      "execution_count": null,
      "outputs": []
    },
    {
      "cell_type": "code",
      "source": [
        "import statistics\n",
        "import scipy as sp\n",
        "def dual_rpca(D, maxIter=100, LineSearchFlag=0):\n",
        "  m,n=D.shape\n",
        "  lambda_=1/np.sqrt(m)\n",
        "  tol=(2e-5)*(np.linalg.norm(D,'fro'))\n",
        "\n",
        "  Y=np.sign(D)\n",
        "  norm_two=np.linalg.svd(Y)\n",
        "  norm_inf=np.linalg.norm(Y.flatten(),np.inf)/lambda_\n",
        "  dual_norm = max(norm_two, norm_inf)\n",
        "  Y = Y / dual_norm\n",
        "  norm_two = norm_two / dual_norm\n",
        "  norm_inf = norm_inf / dual_norm\n",
        "  obj_v = (D.flatten).T * Y.flatten\n",
        "\n",
        "  A_dual = np.zeros(m, n)\n",
        "  E_dual = np.zeros(m, n)\n",
        "  eps=1e-4\n",
        "  tolProj = (1e-8) * (np.linalg.norm(D,'fro'))\n",
        "  epsProjection = 1e-1\n",
        "  t = 1\n",
        "\n",
        "  delta = 0.1\n",
        "  K = 7\n",
        "  memoStepsize = np.ones(1,K) * 0.1\n",
        "  beta = 0.6\n",
        "\n",
        "  iter=0\n",
        "  converged=False\n",
        "\n",
        "  while not converged:\n",
        "    iter+=1\n",
        "    if norm_two<norm_inf-eps and iter<maxIter:\n",
        "      threshold=np.linalg.norm(Y.flatten(),np.inf)*(1-epsProjection)\n",
        "      Z=max(D*(Y>threshold),0)+min(D*(Y<-threshold),0)\n",
        "    else:\n",
        "      t=max(round(t*1.1),t+1)\n",
        "      if choosvd(n,t)==1:\n",
        "        u,s,v=sp.sparse.svds(Y,k=t,which='LM')\n",
        "      else:\n",
        "        u,s,v=np.linalg.svd(Y,full_matrices=0)\n",
        "      \n",
        "      ds=np.diag(s)\n",
        "      t=max(np.where(ds<=ds[0]*(1-(1e-2))))\n",
        "\n",
        "      if norm_two>norm_inf+eps and iter<maxIter:\n",
        "        D_bar=(u[:,0:t]).T*D*(v.T)[:,0:t]\n",
        "        S,J=np.linalg.eig((D_bar+D_bar.T)/2)\n",
        "        temp=S*max(J,0)*(S.T)\n",
        "        Z=u[:,0:t]*temp*v[:,0:t]\n",
        "\n",
        "      else:\n",
        "        convergedProjection = False;\n",
        "        A_dual = np.zeros(m, n)\n",
        "        E_dual = np.zeros(m, n)\n",
        "        proj = 0\n",
        "        threshold=np.linalg.norm(Y.flatten(),np.inf)*(1-epsProjection)\n",
        "        while not convergedProjection:\n",
        "          Z=D-A_dual\n",
        "          Z=max(Z*(Y>threshold),0)+min(Z*(Y<-threshold),0)\n",
        "          D_bar=(u[:,0:t]).T*(D-Z)*(v.T)[:,0:t]\n",
        "          S,J=np.linalg.eig((D_bar+D_bar.T)/2)\n",
        "          temp=S*max(J,0)*(S.T)\n",
        "          X=(u[:,0:t]).T*temp*v[:,0:t]\n",
        "\n",
        "          if np.linalg.norm(D-E_dual,'fro')<tolProj and np.linalg.norm(D-A_dual,'fro')<tolProj:\n",
        "            convergedProjection=True\n",
        "            E_dual=Z\n",
        "            A_dual=X\n",
        "            Z+=X\n",
        "          else:\n",
        "            E_dual=Z\n",
        "            A_dual=X\n",
        "          \n",
        "          proj+=1\n",
        "          if proj>50:\n",
        "            convergedProjection=True\n",
        "          \n",
        "    Z=D-Z\n",
        "    a=D.flatten().T*Y.flatten()\n",
        "    b=D.flatten().T*Z.flatten()\n",
        "    c=Z.flatten().T*Z.flatten()\n",
        "    stepsize = max( 1.3 * statistics.median(memoStepsize), 1e-4 )\n",
        "    convergedLineSearchLike = 0\n",
        "    numTrialPoint=0\n",
        "    while not convergedLineSearchLike:\n",
        "      X = Y + stepsize * Z;\n",
        "      norm_two = np.linalg.svd(X);\n",
        "      norm_inf = np.linalg.norm(X.flatten(),np.inf) / lambda_\n",
        "      dual_norm = max(norm_two, norm_inf)\n",
        "      tempv = (a + b * stepsize) / dual_norm\n",
        "      diff = tempv - a - stepsize / 2 * c\n",
        "      if diff > 0 or numTrialPoint >= 50:\n",
        "        convergedLineSearchLike = 1\n",
        "        obj_v = tempv\n",
        "        norm_two = norm_two / dual_norm\n",
        "        norm_inf = norm_inf / dual_norm\n",
        "        Y = X / dual_norm\n",
        "        delta = stepsize\n",
        "      else:\n",
        "        stepsize = stepsize * beta\n",
        "      \n",
        "      numTrialPoint = numTrialPoint + 1\n",
        "       \n",
        "    memoStepsize[0,iter%K] = delta\n",
        "\n",
        "    stopCriterion=np.linalg.norm(D-A_dual-E_dual,'fro')\n",
        "    if stopCriterion<tol:\n",
        "      converged=True\n",
        "\n",
        "    if iter%10==0:\n",
        "      print('temp finished')\n",
        "        \n",
        "    if not converged and iter>=maxIter:\n",
        "      print('Max iter reached')\n",
        "      return A_dual\n",
        "      converged=1\n"
      ],
      "metadata": {
        "id": "5yOXwC6s72nr"
      },
      "execution_count": null,
      "outputs": []
    },
    {
      "cell_type": "code",
      "source": [
        "print(dual_rpca(matrix))"
      ],
      "metadata": {
        "colab": {
          "base_uri": "https://localhost:8080/",
          "height": 173
        },
        "id": "zXjQV8l181Uh",
        "outputId": "dfe666f7-a0b4-461f-93a2-f383465cc7fd"
      },
      "execution_count": null,
      "outputs": [
        {
          "output_type": "error",
          "ename": "NameError",
          "evalue": "ignored",
          "traceback": [
            "\u001b[0;31m---------------------------------------------------------------------------\u001b[0m",
            "\u001b[0;31mNameError\u001b[0m                                 Traceback (most recent call last)",
            "\u001b[0;32m<ipython-input-1-aa6d3b23b59e>\u001b[0m in \u001b[0;36m<module>\u001b[0;34m()\u001b[0m\n\u001b[0;32m----> 1\u001b[0;31m \u001b[0mprint\u001b[0m\u001b[0;34m(\u001b[0m\u001b[0mdual_rpca\u001b[0m\u001b[0;34m(\u001b[0m\u001b[0mmatrix\u001b[0m\u001b[0;34m)\u001b[0m\u001b[0;34m)\u001b[0m\u001b[0;34m\u001b[0m\u001b[0;34m\u001b[0m\u001b[0m\n\u001b[0m",
            "\u001b[0;31mNameError\u001b[0m: name 'dual_rpca' is not defined"
          ]
        }
      ]
    }
  ]
}